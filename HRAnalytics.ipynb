{
  "nbformat": 4,
  "nbformat_minor": 0,
  "metadata": {
    "colab": {
      "name": "HRAnalytics.ipynb",
      "provenance": [],
      "collapsed_sections": [],
      "include_colab_link": true
    },
    "kernelspec": {
      "name": "python3",
      "display_name": "Python 3"
    }
  },
  "cells": [
    {
      "cell_type": "markdown",
      "metadata": {
        "id": "view-in-github",
        "colab_type": "text"
      },
      "source": [
        "<a href=\"https://colab.research.google.com/github/krsna540/Hackthons/blob/master/HRAnalytics.ipynb\" target=\"_parent\"><img src=\"https://colab.research.google.com/assets/colab-badge.svg\" alt=\"Open In Colab\"/></a>"
      ]
    },
    {
      "cell_type": "code",
      "metadata": {
        "id": "Anz5Bwj1e-Is",
        "colab_type": "code",
        "colab": {}
      },
      "source": [
        "import numpy as np # linear algebra\n",
        "import pandas as pd # data processing, CSV file I/O (e.g. pd.read_csv)\n",
        "import matplotlib.pyplot as plt # for data visualization\n",
        "import seaborn as sns # for heatmap plot\n",
        "# Input data files are available in the \"../input/\" directory.\n",
        "# For example, running this (by clicking run or pressing Shift+Enter) will list the files in the input directory\n",
        "# Suppressing Warnings\n",
        "import warnings\n",
        "warnings.filterwarnings('ignore')"
      ],
      "execution_count": 0,
      "outputs": []
    },
    {
      "cell_type": "code",
      "metadata": {
        "id": "bJoj6CZ-fs1e",
        "colab_type": "code",
        "outputId": "86c1e226-640b-40e6-991f-90b860bfca0d",
        "colab": {
          "base_uri": "https://localhost:8080/",
          "height": 52
        }
      },
      "source": [
        "trainData = pd.read_csv(\"train_LZdllcl.csv\")\n",
        "testData=pd.read_csv(\"test_2umaH9m.csv\")\n",
        "print(trainData.shape)\n",
        "print(testData.shape)"
      ],
      "execution_count": 31,
      "outputs": [
        {
          "output_type": "stream",
          "text": [
            "(54808, 14)\n",
            "(23490, 13)\n"
          ],
          "name": "stdout"
        }
      ]
    },
    {
      "cell_type": "code",
      "metadata": {
        "id": "5bUBDpxryCaC",
        "colab_type": "code",
        "colab": {
          "base_uri": "https://localhost:8080/",
          "height": 34
        },
        "outputId": "1a74b694-73b7-4f20-e885-a2d553bb3fa7"
      },
      "source": [
        "trainData.isnull().any().sum()"
      ],
      "execution_count": 32,
      "outputs": [
        {
          "output_type": "execute_result",
          "data": {
            "text/plain": [
              "2"
            ]
          },
          "metadata": {
            "tags": []
          },
          "execution_count": 32
        }
      ]
    },
    {
      "cell_type": "code",
      "metadata": {
        "id": "4YbFGAhvyHJT",
        "colab_type": "code",
        "colab": {}
      },
      "source": [
        "trainData.fillna(0, inplace = True) "
      ],
      "execution_count": 0,
      "outputs": []
    },
    {
      "cell_type": "code",
      "metadata": {
        "id": "F644bIAvf1BR",
        "colab_type": "code",
        "outputId": "f63a9735-b875-431f-898b-b53409f100f8",
        "colab": {
          "base_uri": "https://localhost:8080/",
          "height": 282
        }
      },
      "source": [
        "trainData.head()"
      ],
      "execution_count": 34,
      "outputs": [
        {
          "output_type": "execute_result",
          "data": {
            "text/html": [
              "<div>\n",
              "<style scoped>\n",
              "    .dataframe tbody tr th:only-of-type {\n",
              "        vertical-align: middle;\n",
              "    }\n",
              "\n",
              "    .dataframe tbody tr th {\n",
              "        vertical-align: top;\n",
              "    }\n",
              "\n",
              "    .dataframe thead th {\n",
              "        text-align: right;\n",
              "    }\n",
              "</style>\n",
              "<table border=\"1\" class=\"dataframe\">\n",
              "  <thead>\n",
              "    <tr style=\"text-align: right;\">\n",
              "      <th></th>\n",
              "      <th>employee_id</th>\n",
              "      <th>department</th>\n",
              "      <th>region</th>\n",
              "      <th>education</th>\n",
              "      <th>gender</th>\n",
              "      <th>recruitment_channel</th>\n",
              "      <th>no_of_trainings</th>\n",
              "      <th>age</th>\n",
              "      <th>previous_year_rating</th>\n",
              "      <th>length_of_service</th>\n",
              "      <th>KPIs_met &gt;80%</th>\n",
              "      <th>awards_won?</th>\n",
              "      <th>avg_training_score</th>\n",
              "      <th>is_promoted</th>\n",
              "    </tr>\n",
              "  </thead>\n",
              "  <tbody>\n",
              "    <tr>\n",
              "      <th>0</th>\n",
              "      <td>65438</td>\n",
              "      <td>Sales &amp; Marketing</td>\n",
              "      <td>region_7</td>\n",
              "      <td>Master's &amp; above</td>\n",
              "      <td>f</td>\n",
              "      <td>sourcing</td>\n",
              "      <td>1</td>\n",
              "      <td>35</td>\n",
              "      <td>5.0</td>\n",
              "      <td>8</td>\n",
              "      <td>1</td>\n",
              "      <td>0</td>\n",
              "      <td>49</td>\n",
              "      <td>0</td>\n",
              "    </tr>\n",
              "    <tr>\n",
              "      <th>1</th>\n",
              "      <td>65141</td>\n",
              "      <td>Operations</td>\n",
              "      <td>region_22</td>\n",
              "      <td>Bachelor's</td>\n",
              "      <td>m</td>\n",
              "      <td>other</td>\n",
              "      <td>1</td>\n",
              "      <td>30</td>\n",
              "      <td>5.0</td>\n",
              "      <td>4</td>\n",
              "      <td>0</td>\n",
              "      <td>0</td>\n",
              "      <td>60</td>\n",
              "      <td>0</td>\n",
              "    </tr>\n",
              "    <tr>\n",
              "      <th>2</th>\n",
              "      <td>7513</td>\n",
              "      <td>Sales &amp; Marketing</td>\n",
              "      <td>region_19</td>\n",
              "      <td>Bachelor's</td>\n",
              "      <td>m</td>\n",
              "      <td>sourcing</td>\n",
              "      <td>1</td>\n",
              "      <td>34</td>\n",
              "      <td>3.0</td>\n",
              "      <td>7</td>\n",
              "      <td>0</td>\n",
              "      <td>0</td>\n",
              "      <td>50</td>\n",
              "      <td>0</td>\n",
              "    </tr>\n",
              "    <tr>\n",
              "      <th>3</th>\n",
              "      <td>2542</td>\n",
              "      <td>Sales &amp; Marketing</td>\n",
              "      <td>region_23</td>\n",
              "      <td>Bachelor's</td>\n",
              "      <td>m</td>\n",
              "      <td>other</td>\n",
              "      <td>2</td>\n",
              "      <td>39</td>\n",
              "      <td>1.0</td>\n",
              "      <td>10</td>\n",
              "      <td>0</td>\n",
              "      <td>0</td>\n",
              "      <td>50</td>\n",
              "      <td>0</td>\n",
              "    </tr>\n",
              "    <tr>\n",
              "      <th>4</th>\n",
              "      <td>48945</td>\n",
              "      <td>Technology</td>\n",
              "      <td>region_26</td>\n",
              "      <td>Bachelor's</td>\n",
              "      <td>m</td>\n",
              "      <td>other</td>\n",
              "      <td>1</td>\n",
              "      <td>45</td>\n",
              "      <td>3.0</td>\n",
              "      <td>2</td>\n",
              "      <td>0</td>\n",
              "      <td>0</td>\n",
              "      <td>73</td>\n",
              "      <td>0</td>\n",
              "    </tr>\n",
              "  </tbody>\n",
              "</table>\n",
              "</div>"
            ],
            "text/plain": [
              "   employee_id         department  ... avg_training_score is_promoted\n",
              "0        65438  Sales & Marketing  ...                 49           0\n",
              "1        65141         Operations  ...                 60           0\n",
              "2         7513  Sales & Marketing  ...                 50           0\n",
              "3         2542  Sales & Marketing  ...                 50           0\n",
              "4        48945         Technology  ...                 73           0\n",
              "\n",
              "[5 rows x 14 columns]"
            ]
          },
          "metadata": {
            "tags": []
          },
          "execution_count": 34
        }
      ]
    },
    {
      "cell_type": "code",
      "metadata": {
        "id": "N-SXDKBUDCBo",
        "colab_type": "code",
        "colab": {}
      },
      "source": [
        "from numpy import array\n",
        "from numpy import argmax\n",
        "from keras.utils import to_categorical"
      ],
      "execution_count": 0,
      "outputs": []
    },
    {
      "cell_type": "code",
      "metadata": {
        "id": "JbNFTRMtlMpG",
        "colab_type": "code",
        "colab": {}
      },
      "source": [
        "trainData['region'] = trainData['region'].map(lambda x: int(x.lstrip('region_')))\n",
        "Gender = {'m': 1,'f': 0}\n",
        "trainData.gender = [Gender[item] for item in trainData.gender]\n",
        "trainData = pd.get_dummies(trainData, columns = ['recruitment_channel', 'department', 'education'], drop_first = True)"
      ],
      "execution_count": 0,
      "outputs": []
    },
    {
      "cell_type": "code",
      "metadata": {
        "id": "OVfpDlp5rwi6",
        "colab_type": "code",
        "outputId": "069d42ef-f3c4-44f1-bb1c-fe77f0658dfb",
        "colab": {
          "base_uri": "https://localhost:8080/",
          "height": 232
        }
      },
      "source": [
        "trainData.head()"
      ],
      "execution_count": 37,
      "outputs": [
        {
          "output_type": "execute_result",
          "data": {
            "text/html": [
              "<div>\n",
              "<style scoped>\n",
              "    .dataframe tbody tr th:only-of-type {\n",
              "        vertical-align: middle;\n",
              "    }\n",
              "\n",
              "    .dataframe tbody tr th {\n",
              "        vertical-align: top;\n",
              "    }\n",
              "\n",
              "    .dataframe thead th {\n",
              "        text-align: right;\n",
              "    }\n",
              "</style>\n",
              "<table border=\"1\" class=\"dataframe\">\n",
              "  <thead>\n",
              "    <tr style=\"text-align: right;\">\n",
              "      <th></th>\n",
              "      <th>employee_id</th>\n",
              "      <th>region</th>\n",
              "      <th>gender</th>\n",
              "      <th>no_of_trainings</th>\n",
              "      <th>age</th>\n",
              "      <th>previous_year_rating</th>\n",
              "      <th>length_of_service</th>\n",
              "      <th>KPIs_met &gt;80%</th>\n",
              "      <th>awards_won?</th>\n",
              "      <th>avg_training_score</th>\n",
              "      <th>is_promoted</th>\n",
              "      <th>recruitment_channel_referred</th>\n",
              "      <th>recruitment_channel_sourcing</th>\n",
              "      <th>department_Finance</th>\n",
              "      <th>department_HR</th>\n",
              "      <th>department_Legal</th>\n",
              "      <th>department_Operations</th>\n",
              "      <th>department_Procurement</th>\n",
              "      <th>department_R&amp;D</th>\n",
              "      <th>department_Sales &amp; Marketing</th>\n",
              "      <th>department_Technology</th>\n",
              "      <th>education_Bachelor's</th>\n",
              "      <th>education_Below Secondary</th>\n",
              "      <th>education_Master's &amp; above</th>\n",
              "    </tr>\n",
              "  </thead>\n",
              "  <tbody>\n",
              "    <tr>\n",
              "      <th>0</th>\n",
              "      <td>65438</td>\n",
              "      <td>7</td>\n",
              "      <td>0</td>\n",
              "      <td>1</td>\n",
              "      <td>35</td>\n",
              "      <td>5.0</td>\n",
              "      <td>8</td>\n",
              "      <td>1</td>\n",
              "      <td>0</td>\n",
              "      <td>49</td>\n",
              "      <td>0</td>\n",
              "      <td>0</td>\n",
              "      <td>1</td>\n",
              "      <td>0</td>\n",
              "      <td>0</td>\n",
              "      <td>0</td>\n",
              "      <td>0</td>\n",
              "      <td>0</td>\n",
              "      <td>0</td>\n",
              "      <td>1</td>\n",
              "      <td>0</td>\n",
              "      <td>0</td>\n",
              "      <td>0</td>\n",
              "      <td>1</td>\n",
              "    </tr>\n",
              "    <tr>\n",
              "      <th>1</th>\n",
              "      <td>65141</td>\n",
              "      <td>22</td>\n",
              "      <td>1</td>\n",
              "      <td>1</td>\n",
              "      <td>30</td>\n",
              "      <td>5.0</td>\n",
              "      <td>4</td>\n",
              "      <td>0</td>\n",
              "      <td>0</td>\n",
              "      <td>60</td>\n",
              "      <td>0</td>\n",
              "      <td>0</td>\n",
              "      <td>0</td>\n",
              "      <td>0</td>\n",
              "      <td>0</td>\n",
              "      <td>0</td>\n",
              "      <td>1</td>\n",
              "      <td>0</td>\n",
              "      <td>0</td>\n",
              "      <td>0</td>\n",
              "      <td>0</td>\n",
              "      <td>1</td>\n",
              "      <td>0</td>\n",
              "      <td>0</td>\n",
              "    </tr>\n",
              "    <tr>\n",
              "      <th>2</th>\n",
              "      <td>7513</td>\n",
              "      <td>19</td>\n",
              "      <td>1</td>\n",
              "      <td>1</td>\n",
              "      <td>34</td>\n",
              "      <td>3.0</td>\n",
              "      <td>7</td>\n",
              "      <td>0</td>\n",
              "      <td>0</td>\n",
              "      <td>50</td>\n",
              "      <td>0</td>\n",
              "      <td>0</td>\n",
              "      <td>1</td>\n",
              "      <td>0</td>\n",
              "      <td>0</td>\n",
              "      <td>0</td>\n",
              "      <td>0</td>\n",
              "      <td>0</td>\n",
              "      <td>0</td>\n",
              "      <td>1</td>\n",
              "      <td>0</td>\n",
              "      <td>1</td>\n",
              "      <td>0</td>\n",
              "      <td>0</td>\n",
              "    </tr>\n",
              "    <tr>\n",
              "      <th>3</th>\n",
              "      <td>2542</td>\n",
              "      <td>23</td>\n",
              "      <td>1</td>\n",
              "      <td>2</td>\n",
              "      <td>39</td>\n",
              "      <td>1.0</td>\n",
              "      <td>10</td>\n",
              "      <td>0</td>\n",
              "      <td>0</td>\n",
              "      <td>50</td>\n",
              "      <td>0</td>\n",
              "      <td>0</td>\n",
              "      <td>0</td>\n",
              "      <td>0</td>\n",
              "      <td>0</td>\n",
              "      <td>0</td>\n",
              "      <td>0</td>\n",
              "      <td>0</td>\n",
              "      <td>0</td>\n",
              "      <td>1</td>\n",
              "      <td>0</td>\n",
              "      <td>1</td>\n",
              "      <td>0</td>\n",
              "      <td>0</td>\n",
              "    </tr>\n",
              "    <tr>\n",
              "      <th>4</th>\n",
              "      <td>48945</td>\n",
              "      <td>26</td>\n",
              "      <td>1</td>\n",
              "      <td>1</td>\n",
              "      <td>45</td>\n",
              "      <td>3.0</td>\n",
              "      <td>2</td>\n",
              "      <td>0</td>\n",
              "      <td>0</td>\n",
              "      <td>73</td>\n",
              "      <td>0</td>\n",
              "      <td>0</td>\n",
              "      <td>0</td>\n",
              "      <td>0</td>\n",
              "      <td>0</td>\n",
              "      <td>0</td>\n",
              "      <td>0</td>\n",
              "      <td>0</td>\n",
              "      <td>0</td>\n",
              "      <td>0</td>\n",
              "      <td>1</td>\n",
              "      <td>1</td>\n",
              "      <td>0</td>\n",
              "      <td>0</td>\n",
              "    </tr>\n",
              "  </tbody>\n",
              "</table>\n",
              "</div>"
            ],
            "text/plain": [
              "   employee_id  region  ...  education_Below Secondary  education_Master's & above\n",
              "0        65438       7  ...                          0                           1\n",
              "1        65141      22  ...                          0                           0\n",
              "2         7513      19  ...                          0                           0\n",
              "3         2542      23  ...                          0                           0\n",
              "4        48945      26  ...                          0                           0\n",
              "\n",
              "[5 rows x 24 columns]"
            ]
          },
          "metadata": {
            "tags": []
          },
          "execution_count": 37
        }
      ]
    },
    {
      "cell_type": "code",
      "metadata": {
        "id": "xHJ5HlI4slCg",
        "colab_type": "code",
        "outputId": "4ef15230-93bb-49c6-9d01-ca1e8cc8ac16",
        "colab": {
          "base_uri": "https://localhost:8080/",
          "height": 249
        }
      },
      "source": [
        "testData.head()"
      ],
      "execution_count": 38,
      "outputs": [
        {
          "output_type": "execute_result",
          "data": {
            "text/html": [
              "<div>\n",
              "<style scoped>\n",
              "    .dataframe tbody tr th:only-of-type {\n",
              "        vertical-align: middle;\n",
              "    }\n",
              "\n",
              "    .dataframe tbody tr th {\n",
              "        vertical-align: top;\n",
              "    }\n",
              "\n",
              "    .dataframe thead th {\n",
              "        text-align: right;\n",
              "    }\n",
              "</style>\n",
              "<table border=\"1\" class=\"dataframe\">\n",
              "  <thead>\n",
              "    <tr style=\"text-align: right;\">\n",
              "      <th></th>\n",
              "      <th>employee_id</th>\n",
              "      <th>department</th>\n",
              "      <th>region</th>\n",
              "      <th>education</th>\n",
              "      <th>gender</th>\n",
              "      <th>recruitment_channel</th>\n",
              "      <th>no_of_trainings</th>\n",
              "      <th>age</th>\n",
              "      <th>previous_year_rating</th>\n",
              "      <th>length_of_service</th>\n",
              "      <th>KPIs_met &gt;80%</th>\n",
              "      <th>awards_won?</th>\n",
              "      <th>avg_training_score</th>\n",
              "    </tr>\n",
              "  </thead>\n",
              "  <tbody>\n",
              "    <tr>\n",
              "      <th>0</th>\n",
              "      <td>8724</td>\n",
              "      <td>Technology</td>\n",
              "      <td>region_26</td>\n",
              "      <td>Bachelor's</td>\n",
              "      <td>m</td>\n",
              "      <td>sourcing</td>\n",
              "      <td>1</td>\n",
              "      <td>24</td>\n",
              "      <td>NaN</td>\n",
              "      <td>1</td>\n",
              "      <td>1</td>\n",
              "      <td>0</td>\n",
              "      <td>77</td>\n",
              "    </tr>\n",
              "    <tr>\n",
              "      <th>1</th>\n",
              "      <td>74430</td>\n",
              "      <td>HR</td>\n",
              "      <td>region_4</td>\n",
              "      <td>Bachelor's</td>\n",
              "      <td>f</td>\n",
              "      <td>other</td>\n",
              "      <td>1</td>\n",
              "      <td>31</td>\n",
              "      <td>3.0</td>\n",
              "      <td>5</td>\n",
              "      <td>0</td>\n",
              "      <td>0</td>\n",
              "      <td>51</td>\n",
              "    </tr>\n",
              "    <tr>\n",
              "      <th>2</th>\n",
              "      <td>72255</td>\n",
              "      <td>Sales &amp; Marketing</td>\n",
              "      <td>region_13</td>\n",
              "      <td>Bachelor's</td>\n",
              "      <td>m</td>\n",
              "      <td>other</td>\n",
              "      <td>1</td>\n",
              "      <td>31</td>\n",
              "      <td>1.0</td>\n",
              "      <td>4</td>\n",
              "      <td>0</td>\n",
              "      <td>0</td>\n",
              "      <td>47</td>\n",
              "    </tr>\n",
              "    <tr>\n",
              "      <th>3</th>\n",
              "      <td>38562</td>\n",
              "      <td>Procurement</td>\n",
              "      <td>region_2</td>\n",
              "      <td>Bachelor's</td>\n",
              "      <td>f</td>\n",
              "      <td>other</td>\n",
              "      <td>3</td>\n",
              "      <td>31</td>\n",
              "      <td>2.0</td>\n",
              "      <td>9</td>\n",
              "      <td>0</td>\n",
              "      <td>0</td>\n",
              "      <td>65</td>\n",
              "    </tr>\n",
              "    <tr>\n",
              "      <th>4</th>\n",
              "      <td>64486</td>\n",
              "      <td>Finance</td>\n",
              "      <td>region_29</td>\n",
              "      <td>Bachelor's</td>\n",
              "      <td>m</td>\n",
              "      <td>sourcing</td>\n",
              "      <td>1</td>\n",
              "      <td>30</td>\n",
              "      <td>4.0</td>\n",
              "      <td>7</td>\n",
              "      <td>0</td>\n",
              "      <td>0</td>\n",
              "      <td>61</td>\n",
              "    </tr>\n",
              "  </tbody>\n",
              "</table>\n",
              "</div>"
            ],
            "text/plain": [
              "   employee_id         department  ... awards_won? avg_training_score\n",
              "0         8724         Technology  ...           0                 77\n",
              "1        74430                 HR  ...           0                 51\n",
              "2        72255  Sales & Marketing  ...           0                 47\n",
              "3        38562        Procurement  ...           0                 65\n",
              "4        64486            Finance  ...           0                 61\n",
              "\n",
              "[5 rows x 13 columns]"
            ]
          },
          "metadata": {
            "tags": []
          },
          "execution_count": 38
        }
      ]
    },
    {
      "cell_type": "code",
      "metadata": {
        "id": "HbPQ2gM-11m-",
        "colab_type": "code",
        "colab": {}
      },
      "source": [
        "testData['region'] = testData['region'].map(lambda x: int(x.lstrip('region_')))\n",
        "Gender = {'m': 1,'f': 0}\n",
        "testData.gender = [Gender[item] for item in testData.gender]\n",
        "testData = pd.get_dummies(testData, columns = ['recruitment_channel', 'department', 'education'], drop_first = True)"
      ],
      "execution_count": 0,
      "outputs": []
    },
    {
      "cell_type": "code",
      "metadata": {
        "id": "fi729N5I94ff",
        "colab_type": "code",
        "outputId": "b5f26de5-15ef-4486-c558-a647996c8e3b",
        "colab": {
          "base_uri": "https://localhost:8080/",
          "height": 232
        }
      },
      "source": [
        "testData.head()"
      ],
      "execution_count": 40,
      "outputs": [
        {
          "output_type": "execute_result",
          "data": {
            "text/html": [
              "<div>\n",
              "<style scoped>\n",
              "    .dataframe tbody tr th:only-of-type {\n",
              "        vertical-align: middle;\n",
              "    }\n",
              "\n",
              "    .dataframe tbody tr th {\n",
              "        vertical-align: top;\n",
              "    }\n",
              "\n",
              "    .dataframe thead th {\n",
              "        text-align: right;\n",
              "    }\n",
              "</style>\n",
              "<table border=\"1\" class=\"dataframe\">\n",
              "  <thead>\n",
              "    <tr style=\"text-align: right;\">\n",
              "      <th></th>\n",
              "      <th>employee_id</th>\n",
              "      <th>region</th>\n",
              "      <th>gender</th>\n",
              "      <th>no_of_trainings</th>\n",
              "      <th>age</th>\n",
              "      <th>previous_year_rating</th>\n",
              "      <th>length_of_service</th>\n",
              "      <th>KPIs_met &gt;80%</th>\n",
              "      <th>awards_won?</th>\n",
              "      <th>avg_training_score</th>\n",
              "      <th>recruitment_channel_referred</th>\n",
              "      <th>recruitment_channel_sourcing</th>\n",
              "      <th>department_Finance</th>\n",
              "      <th>department_HR</th>\n",
              "      <th>department_Legal</th>\n",
              "      <th>department_Operations</th>\n",
              "      <th>department_Procurement</th>\n",
              "      <th>department_R&amp;D</th>\n",
              "      <th>department_Sales &amp; Marketing</th>\n",
              "      <th>department_Technology</th>\n",
              "      <th>education_Below Secondary</th>\n",
              "      <th>education_Master's &amp; above</th>\n",
              "    </tr>\n",
              "  </thead>\n",
              "  <tbody>\n",
              "    <tr>\n",
              "      <th>0</th>\n",
              "      <td>8724</td>\n",
              "      <td>26</td>\n",
              "      <td>1</td>\n",
              "      <td>1</td>\n",
              "      <td>24</td>\n",
              "      <td>NaN</td>\n",
              "      <td>1</td>\n",
              "      <td>1</td>\n",
              "      <td>0</td>\n",
              "      <td>77</td>\n",
              "      <td>0</td>\n",
              "      <td>1</td>\n",
              "      <td>0</td>\n",
              "      <td>0</td>\n",
              "      <td>0</td>\n",
              "      <td>0</td>\n",
              "      <td>0</td>\n",
              "      <td>0</td>\n",
              "      <td>0</td>\n",
              "      <td>1</td>\n",
              "      <td>0</td>\n",
              "      <td>0</td>\n",
              "    </tr>\n",
              "    <tr>\n",
              "      <th>1</th>\n",
              "      <td>74430</td>\n",
              "      <td>4</td>\n",
              "      <td>0</td>\n",
              "      <td>1</td>\n",
              "      <td>31</td>\n",
              "      <td>3.0</td>\n",
              "      <td>5</td>\n",
              "      <td>0</td>\n",
              "      <td>0</td>\n",
              "      <td>51</td>\n",
              "      <td>0</td>\n",
              "      <td>0</td>\n",
              "      <td>0</td>\n",
              "      <td>1</td>\n",
              "      <td>0</td>\n",
              "      <td>0</td>\n",
              "      <td>0</td>\n",
              "      <td>0</td>\n",
              "      <td>0</td>\n",
              "      <td>0</td>\n",
              "      <td>0</td>\n",
              "      <td>0</td>\n",
              "    </tr>\n",
              "    <tr>\n",
              "      <th>2</th>\n",
              "      <td>72255</td>\n",
              "      <td>13</td>\n",
              "      <td>1</td>\n",
              "      <td>1</td>\n",
              "      <td>31</td>\n",
              "      <td>1.0</td>\n",
              "      <td>4</td>\n",
              "      <td>0</td>\n",
              "      <td>0</td>\n",
              "      <td>47</td>\n",
              "      <td>0</td>\n",
              "      <td>0</td>\n",
              "      <td>0</td>\n",
              "      <td>0</td>\n",
              "      <td>0</td>\n",
              "      <td>0</td>\n",
              "      <td>0</td>\n",
              "      <td>0</td>\n",
              "      <td>1</td>\n",
              "      <td>0</td>\n",
              "      <td>0</td>\n",
              "      <td>0</td>\n",
              "    </tr>\n",
              "    <tr>\n",
              "      <th>3</th>\n",
              "      <td>38562</td>\n",
              "      <td>2</td>\n",
              "      <td>0</td>\n",
              "      <td>3</td>\n",
              "      <td>31</td>\n",
              "      <td>2.0</td>\n",
              "      <td>9</td>\n",
              "      <td>0</td>\n",
              "      <td>0</td>\n",
              "      <td>65</td>\n",
              "      <td>0</td>\n",
              "      <td>0</td>\n",
              "      <td>0</td>\n",
              "      <td>0</td>\n",
              "      <td>0</td>\n",
              "      <td>0</td>\n",
              "      <td>1</td>\n",
              "      <td>0</td>\n",
              "      <td>0</td>\n",
              "      <td>0</td>\n",
              "      <td>0</td>\n",
              "      <td>0</td>\n",
              "    </tr>\n",
              "    <tr>\n",
              "      <th>4</th>\n",
              "      <td>64486</td>\n",
              "      <td>29</td>\n",
              "      <td>1</td>\n",
              "      <td>1</td>\n",
              "      <td>30</td>\n",
              "      <td>4.0</td>\n",
              "      <td>7</td>\n",
              "      <td>0</td>\n",
              "      <td>0</td>\n",
              "      <td>61</td>\n",
              "      <td>0</td>\n",
              "      <td>1</td>\n",
              "      <td>1</td>\n",
              "      <td>0</td>\n",
              "      <td>0</td>\n",
              "      <td>0</td>\n",
              "      <td>0</td>\n",
              "      <td>0</td>\n",
              "      <td>0</td>\n",
              "      <td>0</td>\n",
              "      <td>0</td>\n",
              "      <td>0</td>\n",
              "    </tr>\n",
              "  </tbody>\n",
              "</table>\n",
              "</div>"
            ],
            "text/plain": [
              "   employee_id  region  ...  education_Below Secondary  education_Master's & above\n",
              "0         8724      26  ...                          0                           0\n",
              "1        74430       4  ...                          0                           0\n",
              "2        72255      13  ...                          0                           0\n",
              "3        38562       2  ...                          0                           0\n",
              "4        64486      29  ...                          0                           0\n",
              "\n",
              "[5 rows x 22 columns]"
            ]
          },
          "metadata": {
            "tags": []
          },
          "execution_count": 40
        }
      ]
    },
    {
      "cell_type": "code",
      "metadata": {
        "id": "Nkh5_2Vu96MD",
        "colab_type": "code",
        "colab": {}
      },
      "source": [
        "trainData=trainData.drop(['employee_id'],axis=1)\n",
        "train_x=trainData.drop(['is_promoted'],axis=1)\n",
        "train_y=trainData['is_promoted']"
      ],
      "execution_count": 0,
      "outputs": []
    },
    {
      "cell_type": "code",
      "metadata": {
        "id": "FXit16s8M36D",
        "colab_type": "code",
        "colab": {
          "base_uri": "https://localhost:8080/",
          "height": 34
        },
        "outputId": "d7d73fd8-a5ca-40a2-cc48-9fbb75020e77"
      },
      "source": [
        "trainData.shape"
      ],
      "execution_count": 42,
      "outputs": [
        {
          "output_type": "execute_result",
          "data": {
            "text/plain": [
              "(54808, 23)"
            ]
          },
          "metadata": {
            "tags": []
          },
          "execution_count": 42
        }
      ]
    },
    {
      "cell_type": "code",
      "metadata": {
        "id": "K9y_8g2Qy5C6",
        "colab_type": "code",
        "colab": {}
      },
      "source": [
        "#Removing special charecters from column names\n",
        "trainData.columns = trainData.columns.str.strip().str.lower().str.replace('>', '').str.replace('?', '').str.replace('%', '').str.replace(' ', '')"
      ],
      "execution_count": 0,
      "outputs": []
    },
    {
      "cell_type": "code",
      "metadata": {
        "id": "zX6XEr7HqvEq",
        "colab_type": "code",
        "colab": {
          "base_uri": "https://localhost:8080/",
          "height": 298
        },
        "outputId": "294e09f6-67e4-402f-b5f2-1f16ef6ee0c2"
      },
      "source": [
        "from sklearn.feature_selection import SelectKBest\n",
        "from sklearn.feature_selection import chi2\n",
        "\n",
        "X = trainData.drop(['is_promoted'],axis=1)\n",
        "y = trainData['is_promoted']\n",
        "#apply SelectKBest class to extract top 10 best features\n",
        "bestfeatures = SelectKBest(score_func=chi2, k=10)\n",
        "fit = bestfeatures.fit(X,y)\n",
        "dfscores = pd.DataFrame(fit.scores_)\n",
        "dfcolumns = pd.DataFrame(X.columns)\n",
        "#concat two dataframes for better visualization \n",
        "featureScores = pd.concat([dfcolumns,dfscores],axis=1)\n",
        "featureScores.columns = ['Specs','Score']  #naming the dataframe columns\n",
        "print(featureScores.nlargest(15,'Score'))  #print 10 best features "
      ],
      "execution_count": 46,
      "outputs": [
        {
          "output_type": "stream",
          "text": [
            "                           Specs        Score\n",
            "8             avg_training_score  5072.973743\n",
            "7                     awards_won  2054.009313\n",
            "6                     kpis_met80  1743.827117\n",
            "4           previous_year_rating   632.801485\n",
            "0                         region    47.589009\n",
            "18         department_technology    46.061828\n",
            "17    department_sales&marketing    37.312181\n",
            "21      education_master's&above    34.340794\n",
            "3                            age    27.228103\n",
            "12                 department_hr    25.964640\n",
            "5              length_of_service    19.351084\n",
            "9   recruitment_channel_referred    18.649158\n",
            "13              department_legal    15.560025\n",
            "15        department_procurement    11.523545\n",
            "2                no_of_trainings    10.063491\n"
          ],
          "name": "stdout"
        }
      ]
    },
    {
      "cell_type": "code",
      "metadata": {
        "id": "NqVoFkHjxwYf",
        "colab_type": "code",
        "colab": {}
      },
      "source": [
        ""
      ],
      "execution_count": 0,
      "outputs": []
    }
  ]
}